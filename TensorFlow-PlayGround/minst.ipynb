{
  "nbformat": 4,
  "nbformat_minor": 0,
  "metadata": {
    "colab": {
      "provenance": []
    },
    "kernelspec": {
      "name": "python3",
      "display_name": "Python 3"
    },
    "language_info": {
      "name": "python"
    }
  },
  "cells": [
    {
      "cell_type": "markdown",
      "source": [
        "## Load minst dataset\n",
        "\n"
      ],
      "metadata": {
        "id": "knwICTfPAD4T"
      }
    },
    {
      "cell_type": "code",
      "execution_count": 56,
      "metadata": {
        "id": "eh4uERdW5RW6"
      },
      "outputs": [],
      "source": [
        "import tensorflow as tf\n",
        "mnist = tf.keras.datasets.mnist\n",
        "\n",
        "(x_train, y_train), (x_test, y_test) = mnist.load_data()"
      ]
    },
    {
      "cell_type": "markdown",
      "source": [
        "## Check data"
      ],
      "metadata": {
        "id": "4HJ0mC9NTfnS"
      }
    },
    {
      "cell_type": "code",
      "source": [
        "print(x_train.shape)\n",
        "print(y_train.shape)\n",
        "print(x_test.shape)\n",
        "print(y_test.shape)"
      ],
      "metadata": {
        "colab": {
          "base_uri": "https://localhost:8080/"
        },
        "id": "yrMjAi6GTIp7",
        "outputId": "0b43561b-ad83-42a8-ec32-78623b89aef9"
      },
      "execution_count": 57,
      "outputs": [
        {
          "output_type": "stream",
          "name": "stdout",
          "text": [
            "(60000, 28, 28)\n",
            "(60000,)\n",
            "(10000, 28, 28)\n",
            "(10000,)\n"
          ]
        }
      ]
    },
    {
      "cell_type": "code",
      "source": [
        "from PIL import Image as im\n",
        "\n",
        "image_list = []\n",
        "\n",
        "for i in range(20):\n",
        "  image_array = x_train[i]\n",
        "  image_array = image_array.reshape(28,28)\n",
        "  image_list.append(im.fromarray(image_array, mode='L'))\n",
        "\n",
        "image_list[0]"
      ],
      "metadata": {
        "colab": {
          "base_uri": "https://localhost:8080/",
          "height": 45
        },
        "id": "LUzUSKxIT3Wn",
        "outputId": "26e76e29-183e-4c7f-893d-854cd5a7ae6a"
      },
      "execution_count": 58,
      "outputs": [
        {
          "output_type": "execute_result",
          "data": {
            "text/plain": [
              "<PIL.Image.Image image mode=L size=28x28>"
            ],
            "image/png": "[encoded data removed]"
          },
          "metadata": {},
          "execution_count": 58
        }
      ]
    },
    {
      "cell_type": "code",
      "source": [
        "y_train[0]"
      ],
      "metadata": {
        "colab": {
          "base_uri": "https://localhost:8080/"
        },
        "id": "HKHcEpCStrAv",
        "outputId": "0d9af88f-43c1-4c87-e3f2-9c23a24ccc63"
      },
      "execution_count": 59,
      "outputs": [
        {
          "output_type": "execute_result",
          "data": {
            "text/plain": [
              "5"
            ]
          },
          "metadata": {},
          "execution_count": 59
        }
      ]
    },
    {
      "cell_type": "code",
      "source": [
        "image_list[1]"
      ],
      "metadata": {
        "colab": {
          "base_uri": "https://localhost:8080/",
          "height": 45
        },
        "id": "kpveygxwt1Vv",
        "outputId": "fdcbc0e6-046a-42a0-9640-233c503bbcdb"
      },
      "execution_count": 60,
      "outputs": [
        {
          "output_type": "execute_result",
          "data": {
            "text/plain": [
              "<PIL.Image.Image image mode=L size=28x28>"
            ],
            "image/png": "[encoded data removed]"
          },
          "metadata": {},
          "execution_count": 60
        }
      ]
    },
    {
      "cell_type": "code",
      "source": [
        "y_train[1]"
      ],
      "metadata": {
        "colab": {
          "base_uri": "https://localhost:8080/"
        },
        "id": "AzP9FUkKt1fG",
        "outputId": "14c4670d-1b4b-41d8-83e1-26ce3f68fc8b"
      },
      "execution_count": 61,
      "outputs": [
        {
          "output_type": "execute_result",
          "data": {
            "text/plain": [
              "0"
            ]
          },
          "metadata": {},
          "execution_count": 61
        }
      ]
    },
    {
      "cell_type": "markdown",
      "source": [
        "## Setup Model\n",
        "\n",
        "A sample model Wx + b = y\n"
      ],
      "metadata": {
        "id": "XVUCP9GA5qyJ"
      }
    },
    {
      "cell_type": "code",
      "source": [
        "model = tf.keras.models.Sequential([\n",
        "  tf.keras.layers.Flatten(input_shape=(28, 28)),\n",
        "  tf.keras.layers.Dense(10)\n",
        "])\n",
        "loss_fn = tf.keras.losses.SparseCategoricalCrossentropy(from_logits=True)"
      ],
      "metadata": {
        "id": "eUEoAE2u8nz-"
      },
      "execution_count": 62,
      "outputs": []
    },
    {
      "cell_type": "markdown",
      "source": [
        "## Train model\n",
        "\n",
        "make x between 0 to 1 to make the training more efficient."
      ],
      "metadata": {
        "id": "pKTS7QDBPLNo"
      }
    },
    {
      "cell_type": "code",
      "source": [
        "model.compile(optimizer='adam',\n",
        "        loss=loss_fn,\n",
        "        metrics=['accuracy'])\n",
        "\n",
        "x_train, x_test = x_train / 255.0, x_test / 255.0\n",
        "\n",
        "model.fit(x_train, y_train, epochs=5)"
      ],
      "metadata": {
        "colab": {
          "base_uri": "https://localhost:8080/"
        },
        "id": "GGjkw_BhPOT_",
        "outputId": "293a56b4-b3b0-4441-d63a-7e5a91ab5a72"
      },
      "execution_count": 63,
      "outputs": [
        {
          "output_type": "stream",
          "name": "stdout",
          "text": [
            "Epoch 1/5\n",
            "1875/1875 [==============================] - 4s 2ms/step - loss: 0.4657 - accuracy: 0.8788\n",
            "Epoch 2/5\n",
            "1875/1875 [==============================] - 4s 2ms/step - loss: 0.3036 - accuracy: 0.9154\n",
            "Epoch 3/5\n",
            "1875/1875 [==============================] - 4s 2ms/step - loss: 0.2834 - accuracy: 0.9205\n",
            "Epoch 4/5\n",
            "1875/1875 [==============================] - 3s 2ms/step - loss: 0.2728 - accuracy: 0.9232\n",
            "Epoch 5/5\n",
            "1875/1875 [==============================] - 3s 2ms/step - loss: 0.2668 - accuracy: 0.9252\n"
          ]
        },
        {
          "output_type": "execute_result",
          "data": {
            "text/plain": [
              "<keras.src.callbacks.History at 0x7a922dcf6680>"
            ]
          },
          "metadata": {},
          "execution_count": 63
        }
      ]
    },
    {
      "cell_type": "markdown",
      "source": [
        "## evaluate model"
      ],
      "metadata": {
        "id": "sroilJ-1QYmI"
      }
    },
    {
      "cell_type": "code",
      "source": [
        "model.evaluate(x_test,  y_test, verbose=2)"
      ],
      "metadata": {
        "colab": {
          "base_uri": "https://localhost:8080/"
        },
        "id": "fccczCXaQLwp",
        "outputId": "af9ee3f3-9d04-4b6d-93ae-e918bafd84d4"
      },
      "execution_count": 64,
      "outputs": [
        {
          "output_type": "stream",
          "name": "stdout",
          "text": [
            "313/313 - 1s - loss: 0.2682 - accuracy: 0.9263 - 595ms/epoch - 2ms/step\n"
          ]
        },
        {
          "output_type": "execute_result",
          "data": {
            "text/plain": [
              "[0.26816707849502563, 0.9262999892234802]"
            ]
          },
          "metadata": {},
          "execution_count": 64
        }
      ]
    },
    {
      "cell_type": "markdown",
      "source": [
        "## Try using CNN to improve model\n",
        "\n",
        "Adding Dropout layer to avoid over-fitting"
      ],
      "metadata": {
        "id": "eNUqX-ZWRaWG"
      }
    },
    {
      "cell_type": "code",
      "source": [
        "model = tf.keras.models.Sequential([\n",
        "  tf.keras.layers.Conv2D(1, 5, activation='relu', padding='valid', input_shape=(28,28,1)),\n",
        "  tf.keras.layers.MaxPooling2D(pool_size=(2, 2),strides=(1, 1), padding='valid'),\n",
        "  tf.keras.layers.Conv2D(1, 3, activation='relu', padding='valid'),\n",
        "  tf.keras.layers.MaxPooling2D(pool_size=(2, 2),strides=(1, 1), padding='valid'),\n",
        "  tf.keras.layers.Flatten(input_shape=(28, 28)),\n",
        "  tf.keras.layers.Dense(128),\n",
        "  tf.keras.layers.Dropout(0.5),\n",
        "  tf.keras.layers.Dense(10)\n",
        "])\n",
        "loss_fn = tf.keras.losses.SparseCategoricalCrossentropy(from_logits=True)"
      ],
      "metadata": {
        "id": "maPFUbk6RhDY"
      },
      "execution_count": 65,
      "outputs": []
    },
    {
      "cell_type": "markdown",
      "source": [
        "## Training"
      ],
      "metadata": {
        "id": "waj0FTWCAnXm"
      }
    },
    {
      "cell_type": "code",
      "source": [
        "model.compile(optimizer='adam',\n",
        "        loss=loss_fn,\n",
        "        metrics=['accuracy'])\n",
        "model.fit(x_train, y_train, epochs=15)"
      ],
      "metadata": {
        "colab": {
          "base_uri": "https://localhost:8080/"
        },
        "id": "KeH32glQ7x30",
        "outputId": "190efc96-06f7-45f1-f233-0bb4aea0e0f9"
      },
      "execution_count": 66,
      "outputs": [
        {
          "output_type": "stream",
          "name": "stdout",
          "text": [
            "Epoch 1/15\n",
            "1875/1875 [==============================] - 37s 19ms/step - loss: 0.5201 - accuracy: 0.8419\n",
            "Epoch 2/15\n",
            "1875/1875 [==============================] - 37s 20ms/step - loss: 0.3747 - accuracy: 0.8861\n",
            "Epoch 3/15\n",
            "1875/1875 [==============================] - 36s 19ms/step - loss: 0.3324 - accuracy: 0.9006\n",
            "Epoch 4/15\n",
            "1875/1875 [==============================] - 37s 20ms/step - loss: 0.3014 - accuracy: 0.9074\n",
            "Epoch 5/15\n",
            "1875/1875 [==============================] - 36s 19ms/step - loss: 0.2809 - accuracy: 0.9141\n",
            "Epoch 6/15\n",
            "1875/1875 [==============================] - 36s 19ms/step - loss: 0.2669 - accuracy: 0.9178\n",
            "Epoch 7/15\n",
            "1875/1875 [==============================] - 35s 19ms/step - loss: 0.2569 - accuracy: 0.9219\n",
            "Epoch 8/15\n",
            "1875/1875 [==============================] - 37s 20ms/step - loss: 0.2462 - accuracy: 0.9260\n",
            "Epoch 9/15\n",
            "1875/1875 [==============================] - 37s 20ms/step - loss: 0.2388 - accuracy: 0.9277\n",
            "Epoch 10/15\n",
            "1875/1875 [==============================] - 37s 20ms/step - loss: 0.2357 - accuracy: 0.9291\n",
            "Epoch 11/15\n",
            "1875/1875 [==============================] - 37s 19ms/step - loss: 0.2336 - accuracy: 0.9301\n",
            "Epoch 12/15\n",
            "1875/1875 [==============================] - 36s 19ms/step - loss: 0.2267 - accuracy: 0.9324\n",
            "Epoch 13/15\n",
            "1875/1875 [==============================] - 36s 19ms/step - loss: 0.2242 - accuracy: 0.9329\n",
            "Epoch 14/15\n",
            "1875/1875 [==============================] - 36s 19ms/step - loss: 0.2241 - accuracy: 0.9326\n",
            "Epoch 15/15\n",
            "1875/1875 [==============================] - 35s 19ms/step - loss: 0.2182 - accuracy: 0.9342\n"
          ]
        },
        {
          "output_type": "execute_result",
          "data": {
            "text/plain": [
              "<keras.src.callbacks.History at 0x7a922dd93e50>"
            ]
          },
          "metadata": {},
          "execution_count": 66
        }
      ]
    },
    {
      "cell_type": "markdown",
      "source": [
        "## Evaluting"
      ],
      "metadata": {
        "id": "O4o_-OtAAq5M"
      }
    },
    {
      "cell_type": "code",
      "source": [
        "model.evaluate(x_test,  y_test, verbose=2)"
      ],
      "metadata": {
        "colab": {
          "base_uri": "https://localhost:8080/"
        },
        "id": "WerzuV__9tAe",
        "outputId": "5a55dff2-e141-471e-d164-bbec0bba717d"
      },
      "execution_count": 67,
      "outputs": [
        {
          "output_type": "stream",
          "name": "stdout",
          "text": [
            "313/313 - 2s - loss: 0.1842 - accuracy: 0.9445 - 2s/epoch - 7ms/step\n"
          ]
        },
        {
          "output_type": "execute_result",
          "data": {
            "text/plain": [
              "[0.18416664004325867, 0.9445000290870667]"
            ]
          },
          "metadata": {},
          "execution_count": 67
        }
      ]
    }
  ]
}