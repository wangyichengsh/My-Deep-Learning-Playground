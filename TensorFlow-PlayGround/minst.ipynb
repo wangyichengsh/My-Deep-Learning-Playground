{
  "nbformat": 4,
  "nbformat_minor": 0,
  "metadata": {
    "colab": {
      "provenance": [],
      "cell_execution_strategy": "setup"
    },
    "kernelspec": {
      "name": "python3",
      "display_name": "Python 3"
    },
    "language_info": {
      "name": "python"
    }
  },
  "cells": [
    {
      "cell_type": "markdown",
      "source": [
        "## Load minst dataset\n",
        "\n"
      ],
      "metadata": {
        "id": "knwICTfPAD4T"
      }
    },
    {
      "cell_type": "code",
      "execution_count": 1,
      "metadata": {
        "id": "eh4uERdW5RW6",
        "colab": {
          "base_uri": "https://localhost:8080/"
        },
        "outputId": "ad9767e2-3f9d-4cb8-c9d3-665f30d22bb4"
      },
      "outputs": [
        {
          "output_type": "stream",
          "name": "stdout",
          "text": [
            "Downloading data from https://storage.googleapis.com/tensorflow/tf-keras-datasets/mnist.npz\n",
            "11490434/11490434 [==============================] - 0s 0us/step\n"
          ]
        }
      ],
      "source": [
        "import tensorflow as tf\n",
        "mnist = tf.keras.datasets.mnist\n",
        "\n",
        "(x_train, y_train), (x_test, y_test) = mnist.load_data()"
      ]
    },
    {
      "cell_type": "markdown",
      "source": [
        "## Check data"
      ],
      "metadata": {
        "id": "4HJ0mC9NTfnS"
      }
    },
    {
      "cell_type": "code",
      "source": [
        "print(x_train.shape)\n",
        "print(y_train.shape)\n",
        "print(x_test.shape)\n",
        "print(y_test.shape)"
      ],
      "metadata": {
        "colab": {
          "base_uri": "https://localhost:8080/"
        },
        "id": "yrMjAi6GTIp7",
        "outputId": "6aa4f5d4-a160-4811-c2f8-0cfb382c5efa"
      },
      "execution_count": 2,
      "outputs": [
        {
          "output_type": "stream",
          "name": "stdout",
          "text": [
            "(60000, 28, 28)\n",
            "(60000,)\n",
            "(10000, 28, 28)\n",
            "(10000,)\n"
          ]
        }
      ]
    },
    {
      "cell_type": "code",
      "source": [
        "from PIL import Image as im\n",
        "\n",
        "image_list = []\n",
        "\n",
        "for i in range(20):\n",
        "  image_array = x_train[i]\n",
        "  image_array = image_array.reshape(28,28)\n",
        "  image_list.append(im.fromarray(image_array, mode='L'))\n",
        "\n",
        "image_list[0]"
      ],
      "metadata": {
        "colab": {
          "base_uri": "https://localhost:8080/",
          "height": 45
        },
        "id": "LUzUSKxIT3Wn",
        "outputId": "3138dc3a-764e-484b-9482-c28fdac06a35"
      },
      "execution_count": 3,
      "outputs": [
        {
          "output_type": "execute_result",
          "data": {
            "text/plain": [
              "<PIL.Image.Image image mode=L size=28x28>"
            ],
            "image/png": "[encoded data removed]"
          },
          "metadata": {},
          "execution_count": 3
        }
      ]
    },
    {
      "cell_type": "code",
      "source": [
        "y_train[0]"
      ],
      "metadata": {
        "colab": {
          "base_uri": "https://localhost:8080/"
        },
        "id": "HKHcEpCStrAv",
        "outputId": "de355dfb-e2c9-4324-df45-32a490c8302c"
      },
      "execution_count": 4,
      "outputs": [
        {
          "output_type": "execute_result",
          "data": {
            "text/plain": [
              "5"
            ]
          },
          "metadata": {},
          "execution_count": 4
        }
      ]
    },
    {
      "cell_type": "code",
      "source": [
        "image_list[1]"
      ],
      "metadata": {
        "colab": {
          "base_uri": "https://localhost:8080/",
          "height": 45
        },
        "id": "kpveygxwt1Vv",
        "outputId": "2d472846-3d64-4cf6-e927-5d295abd575f"
      },
      "execution_count": 5,
      "outputs": [
        {
          "output_type": "execute_result",
          "data": {
            "text/plain": [
              "<PIL.Image.Image image mode=L size=28x28>"
            ],
            "image/png": "[encoded data removed]"
          },
          "metadata": {},
          "execution_count": 5
        }
      ]
    },
    {
      "cell_type": "code",
      "source": [
        "y_train[1]"
      ],
      "metadata": {
        "colab": {
          "base_uri": "https://localhost:8080/"
        },
        "id": "AzP9FUkKt1fG",
        "outputId": "0f70f14a-d8d9-4a46-f843-ff7a6446134e"
      },
      "execution_count": 6,
      "outputs": [
        {
          "output_type": "execute_result",
          "data": {
            "text/plain": [
              "0"
            ]
          },
          "metadata": {},
          "execution_count": 6
        }
      ]
    },
    {
      "cell_type": "markdown",
      "source": [
        "## Setup Model\n",
        "\n",
        "A sample model Wx + b = y\n"
      ],
      "metadata": {
        "id": "XVUCP9GA5qyJ"
      }
    },
    {
      "cell_type": "code",
      "source": [
        "model = tf.keras.models.Sequential([\n",
        "  tf.keras.layers.Flatten(input_shape=(28, 28)),\n",
        "  tf.keras.layers.Dense(10)\n",
        "])\n",
        "loss_fn = tf.keras.losses.SparseCategoricalCrossentropy(from_logits=True)"
      ],
      "metadata": {
        "id": "eUEoAE2u8nz-"
      },
      "execution_count": 7,
      "outputs": []
    },
    {
      "cell_type": "markdown",
      "source": [
        "## Train model\n",
        "\n",
        "make x between 0 to 1 to make the training more efficient."
      ],
      "metadata": {
        "id": "pKTS7QDBPLNo"
      }
    },
    {
      "cell_type": "code",
      "source": [
        "model.compile(optimizer='adam',\n",
        "        loss=loss_fn,\n",
        "        metrics=['accuracy'])\n",
        "\n",
        "x_train, x_test = x_train / 255.0, x_test / 255.0\n",
        "\n",
        "model.fit(x_train, y_train, epochs=5)"
      ],
      "metadata": {
        "colab": {
          "base_uri": "https://localhost:8080/"
        },
        "id": "GGjkw_BhPOT_",
        "outputId": "c99fd4c8-3f29-486f-86e4-02ec3fff3830"
      },
      "execution_count": 8,
      "outputs": [
        {
          "output_type": "stream",
          "name": "stdout",
          "text": [
            "Epoch 1/5\n",
            "1875/1875 [==============================] - 6s 3ms/step - loss: 0.4690 - accuracy: 0.8764\n",
            "Epoch 2/5\n",
            "1875/1875 [==============================] - 5s 3ms/step - loss: 0.3033 - accuracy: 0.9158\n",
            "Epoch 3/5\n",
            "1875/1875 [==============================] - 3s 2ms/step - loss: 0.2832 - accuracy: 0.9204\n",
            "Epoch 4/5\n",
            "1875/1875 [==============================] - 3s 2ms/step - loss: 0.2728 - accuracy: 0.9233\n",
            "Epoch 5/5\n",
            "1875/1875 [==============================] - 3s 2ms/step - loss: 0.2665 - accuracy: 0.9257\n"
          ]
        },
        {
          "output_type": "execute_result",
          "data": {
            "text/plain": [
              "<keras.src.callbacks.History at 0x7aa1aa3324a0>"
            ]
          },
          "metadata": {},
          "execution_count": 8
        }
      ]
    },
    {
      "cell_type": "markdown",
      "source": [
        "## evaluate model"
      ],
      "metadata": {
        "id": "sroilJ-1QYmI"
      }
    },
    {
      "cell_type": "code",
      "source": [
        "model.evaluate(x_test,  y_test, verbose=2)"
      ],
      "metadata": {
        "colab": {
          "base_uri": "https://localhost:8080/"
        },
        "id": "fccczCXaQLwp",
        "outputId": "5741bde7-de1e-42bf-a6a6-77778b4adaef"
      },
      "execution_count": 9,
      "outputs": [
        {
          "output_type": "stream",
          "name": "stdout",
          "text": [
            "313/313 - 1s - loss: 0.2666 - accuracy: 0.9260 - 538ms/epoch - 2ms/step\n"
          ]
        },
        {
          "output_type": "execute_result",
          "data": {
            "text/plain": [
              "[0.26662471890449524, 0.9259999990463257]"
            ]
          },
          "metadata": {},
          "execution_count": 9
        }
      ]
    },
    {
      "cell_type": "markdown",
      "source": [
        "## Try using CNN to improve model\n",
        "\n",
        "Adding Dropout layer to avoid over-fitting"
      ],
      "metadata": {
        "id": "eNUqX-ZWRaWG"
      }
    },
    {
      "cell_type": "code",
      "source": [
        "model = tf.keras.models.Sequential([\n",
        "  tf.keras.layers.Conv2D(32, 5, activation='relu', padding='valid', input_shape=(28,28,1)),\n",
        "  tf.keras.layers.MaxPooling2D(pool_size=(2, 2),strides=(1, 1), padding='valid'),\n",
        "  tf.keras.layers.Conv2D(64, 3, activation='relu', padding='valid'),\n",
        "  tf.keras.layers.MaxPooling2D(pool_size=(2, 2),strides=(1, 1), padding='valid'),\n",
        "  tf.keras.layers.Flatten(input_shape=(28, 28)),\n",
        "  tf.keras.layers.Dense(128, activation='relu'),\n",
        "  tf.keras.layers.Dropout(0.5),\n",
        "  tf.keras.layers.Dense(10)\n",
        "])\n",
        "loss_fn = tf.keras.losses.SparseCategoricalCrossentropy(from_logits=True)"
      ],
      "metadata": {
        "id": "maPFUbk6RhDY"
      },
      "execution_count": 10,
      "outputs": []
    },
    {
      "cell_type": "markdown",
      "source": [
        "## Training"
      ],
      "metadata": {
        "id": "waj0FTWCAnXm"
      }
    },
    {
      "cell_type": "code",
      "source": [
        "model.compile(optimizer='adam',\n",
        "        loss=loss_fn,\n",
        "        metrics=['accuracy'])\n",
        "model.fit(x_train, y_train, epochs=5)"
      ],
      "metadata": {
        "colab": {
          "base_uri": "https://localhost:8080/"
        },
        "id": "KeH32glQ7x30",
        "outputId": "a912d74d-efb9-418e-d014-9a656aa35b7b"
      },
      "execution_count": 11,
      "outputs": [
        {
          "output_type": "stream",
          "name": "stdout",
          "text": [
            "Epoch 1/5\n",
            "1875/1875 [==============================] - 224s 119ms/step - loss: 0.1709 - accuracy: 0.9484\n",
            "Epoch 2/5\n",
            "1875/1875 [==============================] - 217s 116ms/step - loss: 0.0736 - accuracy: 0.9779\n",
            "Epoch 3/5\n",
            "1875/1875 [==============================] - 218s 116ms/step - loss: 0.0562 - accuracy: 0.9839\n",
            "Epoch 4/5\n",
            "1875/1875 [==============================] - 217s 116ms/step - loss: 0.0469 - accuracy: 0.9864\n",
            "Epoch 5/5\n",
            "1875/1875 [==============================] - 219s 117ms/step - loss: 0.0402 - accuracy: 0.9880\n"
          ]
        },
        {
          "output_type": "execute_result",
          "data": {
            "text/plain": [
              "<keras.src.callbacks.History at 0x7aa1aab52aa0>"
            ]
          },
          "metadata": {},
          "execution_count": 11
        }
      ]
    },
    {
      "cell_type": "markdown",
      "source": [
        "## Evaluting"
      ],
      "metadata": {
        "id": "O4o_-OtAAq5M"
      }
    },
    {
      "cell_type": "code",
      "source": [
        "model.evaluate(x_test,  y_test, verbose=2)"
      ],
      "metadata": {
        "colab": {
          "base_uri": "https://localhost:8080/"
        },
        "id": "WerzuV__9tAe",
        "outputId": "3b4f6dd2-1043-4e38-893d-4e88108e7083"
      },
      "execution_count": 12,
      "outputs": [
        {
          "output_type": "stream",
          "name": "stdout",
          "text": [
            "313/313 - 6s - loss: 0.0259 - accuracy: 0.9919 - 6s/epoch - 19ms/step\n"
          ]
        },
        {
          "output_type": "execute_result",
          "data": {
            "text/plain": [
              "[0.025897042825818062, 0.9919000267982483]"
            ]
          },
          "metadata": {},
          "execution_count": 12
        }
      ]
    }
  ]
}