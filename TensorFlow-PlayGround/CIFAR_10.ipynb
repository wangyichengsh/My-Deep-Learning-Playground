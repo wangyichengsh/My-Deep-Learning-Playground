{
  "nbformat": 4,
  "nbformat_minor": 0,
  "metadata": {
    "colab": {
      "provenance": []
    },
    "kernelspec": {
      "name": "python3",
      "display_name": "Python 3"
    },
    "language_info": {
      "name": "python"
    }
  },
  "cells": [
    {
      "cell_type": "markdown",
      "source": [
        "## Load Data"
      ],
      "metadata": {
        "id": "aph65aL9N-cw"
      }
    },
    {
      "cell_type": "code",
      "execution_count": 32,
      "metadata": {
        "id": "5mC5J4oOMk4o"
      },
      "outputs": [],
      "source": [
        "import tensorflow as tf\n",
        "cifar10 = tf.keras.datasets.cifar10\n",
        "\n",
        "(x_train, y_train), (x_test, y_test) = cifar10.load_data()"
      ]
    },
    {
      "cell_type": "markdown",
      "source": [
        "## Ckeck Data"
      ],
      "metadata": {
        "id": "ZnlzxG3MZkTI"
      }
    },
    {
      "cell_type": "code",
      "source": [
        "print(x_train.shape)\n",
        "print(y_train.shape)\n",
        "print(x_test.shape)\n",
        "print(y_test.shape)\n"
      ],
      "metadata": {
        "colab": {
          "base_uri": "https://localhost:8080/"
        },
        "id": "NIq0VQd5OIM2",
        "outputId": "0365fd23-2383-4f40-e965-aa63305ae128"
      },
      "execution_count": 33,
      "outputs": [
        {
          "output_type": "stream",
          "name": "stdout",
          "text": [
            "(50000, 32, 32, 3)\n",
            "(50000, 1)\n",
            "(10000, 32, 32, 3)\n",
            "(10000, 1)\n"
          ]
        }
      ]
    },
    {
      "cell_type": "code",
      "source": [
        "from PIL import Image as im\n",
        "\n",
        "image_list = []\n",
        "\n",
        "for i in range(20):\n",
        "  image_array = x_train[i]\n",
        "  image_array = image_array.reshape(32,32,3)\n",
        "  image_list.append(im.fromarray(image_array, mode='RGB'))\n",
        "\n",
        "image_list[0]"
      ],
      "metadata": {
        "colab": {
          "base_uri": "https://localhost:8080/",
          "height": 49
        },
        "id": "9p9ZEk4FZo4M",
        "outputId": "bbe0e110-bc42-43cf-b376-b1cd5ab2504a"
      },
      "execution_count": 34,
      "outputs": [
        {
          "output_type": "execute_result",
          "data": {
            "text/plain": [
              "<PIL.Image.Image image mode=RGB size=32x32>"
            ],
            "image/png": "[encoded data removed]"
          },
          "metadata": {},
          "execution_count": 34
        }
      ]
    },
    {
      "cell_type": "code",
      "source": [
        "item_map = ['airplane', 'automobile', 'bird', 'cat', 'deer', 'dog', 'frog', 'horse', 'ship', 'truck']\n",
        "item_map[y_train[0][0]]"
      ],
      "metadata": {
        "colab": {
          "base_uri": "https://localhost:8080/",
          "height": 35
        },
        "id": "Jk9-e5LjZzpG",
        "outputId": "30619082-d952-499f-c7dd-62a9eebf8d8a"
      },
      "execution_count": 35,
      "outputs": [
        {
          "output_type": "execute_result",
          "data": {
            "text/plain": [
              "'frog'"
            ],
            "application/vnd.google.colaboratory.intrinsic+json": {
              "type": "string"
            }
          },
          "metadata": {},
          "execution_count": 35
        }
      ]
    },
    {
      "cell_type": "code",
      "source": [
        "image_list[1]"
      ],
      "metadata": {
        "colab": {
          "base_uri": "https://localhost:8080/",
          "height": 49
        },
        "id": "1AcRhpKkbZ2T",
        "outputId": "3688cdb1-6632-4799-db11-40a3986a465e"
      },
      "execution_count": 36,
      "outputs": [
        {
          "output_type": "execute_result",
          "data": {
            "text/plain": [
              "<PIL.Image.Image image mode=RGB size=32x32>"
            ],
            "image/png": "[encoded data removed]"
          },
          "metadata": {},
          "execution_count": 36
        }
      ]
    },
    {
      "cell_type": "code",
      "source": [
        "item_map[y_train[1][0]]"
      ],
      "metadata": {
        "colab": {
          "base_uri": "https://localhost:8080/",
          "height": 35
        },
        "id": "7vQav2lqbcPo",
        "outputId": "9a0c7222-b69b-4298-ddb3-49a80c9a4852"
      },
      "execution_count": 37,
      "outputs": [
        {
          "output_type": "execute_result",
          "data": {
            "text/plain": [
              "'truck'"
            ],
            "application/vnd.google.colaboratory.intrinsic+json": {
              "type": "string"
            }
          },
          "metadata": {},
          "execution_count": 37
        }
      ]
    },
    {
      "cell_type": "markdown",
      "source": [
        "## Setup Model"
      ],
      "metadata": {
        "id": "M2G37q49cHEy"
      }
    },
    {
      "cell_type": "code",
      "source": [
        "model = tf.keras.models.Sequential([\n",
        "  tf.keras.layers.Conv2D(64, 5, activation='relu', padding='same', input_shape=(32,32,3)),\n",
        "  tf.keras.layers.MaxPooling2D(pool_size=(3, 3),strides=(2, 2), padding='same'),\n",
        "  tf.keras.layers.Conv2D(64, 5, activation='relu', padding='same'),\n",
        "  tf.keras.layers.MaxPooling2D(pool_size=(3, 3),strides=(2, 2), padding='same'),\n",
        "  tf.keras.layers.Flatten(),\n",
        "  tf.keras.layers.Dense(384, activation='relu'),\n",
        "  tf.keras.layers.Dense(192, activation='relu'),\n",
        "  tf.keras.layers.Dropout(0.5),\n",
        "  tf.keras.layers.Dense(10)\n",
        "])\n",
        "loss_fn = tf.keras.losses.SparseCategoricalCrossentropy(from_logits=True)"
      ],
      "metadata": {
        "id": "2M4yE7bscMHC"
      },
      "execution_count": 57,
      "outputs": []
    },
    {
      "cell_type": "markdown",
      "source": [
        "## Train"
      ],
      "metadata": {
        "id": "ob8ZopEPkLo8"
      }
    },
    {
      "cell_type": "code",
      "source": [
        "model.compile(optimizer='adam',\n",
        "        loss=loss_fn,\n",
        "        metrics=['accuracy'])\n",
        "history = model.fit(x_train, y_train, epochs=20)"
      ],
      "metadata": {
        "colab": {
          "base_uri": "https://localhost:8080/"
        },
        "id": "yG1-ECEqi08S",
        "outputId": "736c7635-051c-4b2e-fadd-650e319c6f9f"
      },
      "execution_count": null,
      "outputs": [
        {
          "output_type": "stream",
          "name": "stdout",
          "text": [
            "Epoch 1/20\n",
            "1563/1563 [==============================] - 346s 221ms/step - loss: 2.2377 - accuracy: 0.2162\n",
            "Epoch 2/20\n",
            "1563/1563 [==============================] - 312s 199ms/step - loss: 1.8549 - accuracy: 0.3218\n",
            "Epoch 3/20\n",
            "1563/1563 [==============================] - 311s 199ms/step - loss: 1.6642 - accuracy: 0.4028\n",
            "Epoch 4/20\n",
            "1563/1563 [==============================] - 313s 200ms/step - loss: 1.5360 - accuracy: 0.4578\n",
            "Epoch 5/20\n",
            "1563/1563 [==============================] - 312s 200ms/step - loss: 1.4443 - accuracy: 0.4929\n",
            "Epoch 6/20\n",
            "1563/1563 [==============================] - 311s 199ms/step - loss: 1.3540 - accuracy: 0.5324\n",
            "Epoch 7/20\n",
            "1563/1563 [==============================] - 312s 199ms/step - loss: 1.2953 - accuracy: 0.5557\n",
            "Epoch 8/20\n",
            "1563/1563 [==============================] - 311s 199ms/step - loss: 1.2409 - accuracy: 0.5739\n",
            "Epoch 9/20\n",
            "1563/1563 [==============================] - 310s 198ms/step - loss: 1.1881 - accuracy: 0.5956\n",
            "Epoch 10/20\n",
            "1563/1563 [==============================] - 311s 199ms/step - loss: 1.1513 - accuracy: 0.6100\n",
            "Epoch 11/20\n",
            "1563/1563 [==============================] - 310s 198ms/step - loss: 1.0992 - accuracy: 0.6279\n",
            "Epoch 12/20\n",
            "1563/1563 [==============================] - 311s 199ms/step - loss: 1.0664 - accuracy: 0.6420\n",
            "Epoch 13/20\n",
            "1563/1563 [==============================] - 308s 197ms/step - loss: 1.0249 - accuracy: 0.6569\n",
            "Epoch 14/20\n",
            "1521/1563 [============================>.] - ETA: 8s - loss: 0.9859 - accuracy: 0.6688"
          ]
        }
      ]
    },
    {
      "cell_type": "markdown",
      "source": [
        "## Evalute"
      ],
      "metadata": {
        "id": "52GQIAOnkOaY"
      }
    },
    {
      "cell_type": "code",
      "source": [
        "model.evaluate(x_test, y_test, verbose=2)"
      ],
      "metadata": {
        "id": "YwCJ8FLVkQz7"
      },
      "execution_count": null,
      "outputs": []
    },
    {
      "cell_type": "code",
      "source": [
        "import matplotlib.pyplot as plt\n",
        "acc = history.history['accuracy']\n",
        "\n",
        "\n",
        "loss = history.history['loss']\n",
        "\n",
        "\n",
        "epochs_range = range(20)\n",
        "\n",
        "plt.figure(figsize=(8, 8))\n",
        "plt.subplot(1, 2, 1)\n",
        "plt.plot(epochs_range, acc, label='Training Accuracy')\n",
        "\n",
        "plt.legend(loc='lower right')\n",
        "plt.title('Training and Validation Accuracy')\n",
        "\n",
        "plt.subplot(1, 2, 2)\n",
        "plt.plot(epochs_range, loss, label='Training Loss')\n",
        "\n",
        "plt.legend(loc='upper right')\n",
        "plt.title('Training and Validation Loss')\n",
        "plt.show()"
      ],
      "metadata": {
        "id": "2yXuJeWDlmkD"
      },
      "execution_count": null,
      "outputs": []
    },
    {
      "cell_type": "markdown",
      "source": [
        "## Try to improve Performance by Data Augmentation"
      ],
      "metadata": {
        "id": "j028mgvJRHjX"
      }
    },
    {
      "cell_type": "code",
      "source": [
        "import numpy as np\n",
        "\n",
        "def data_augmentation(image):\n",
        "  # image = tf.image.random_crop(image, [28, 28, 3])\n",
        "  image = tf.image.random_flip_left_right(image)\n",
        "  image = tf.image.random_flip_up_down(image)\n",
        "  # image = tf.image.random_brightness(image, 63)\n",
        "  # image = tf.image.random_contrast(image, 0.2, 1.8)\n",
        "  return image.numpy()\n",
        "\n",
        "\n",
        "def get_batch(x_train, y_train, batch_size):\n",
        "  t = int(x_train.shape[0]/batch_size)+1\n",
        "  for i in range(t):\n",
        "    x_train_aug = data_augmentation(x_train[i*batch_size]).reshape((1, 32, 32, 3))\n",
        "    for image in x_train[i*batch_size+1:(i+1)*batch_size,:]:\n",
        "      x_train_aug = np.append(x_train_aug,data_augmentation(image).reshape((1, 32, 32, 3)), axis=0)\n",
        "    yield x_train_aug, y_train[i*batch_size:(i+1)*batch_size]\n",
        "\n",
        "model = tf.keras.models.Sequential([\n",
        "  tf.keras.layers.Conv2D(64, 5, activation='relu', padding='valid', input_shape=(32,32,3)),\n",
        "  tf.keras.layers.MaxPooling2D(pool_size=(3, 3),strides=(2, 2), padding='valid'),\n",
        "  tf.keras.layers.Conv2D(64, 5, activation='relu', padding='valid'),\n",
        "  tf.keras.layers.MaxPooling2D(pool_size=(3, 3),strides=(2, 2), padding='valid'),\n",
        "  tf.keras.layers.Flatten(),\n",
        "  tf.keras.layers.Dense(384, activation='relu'),\n",
        "  tf.keras.layers.Dense(192, activation='relu'),\n",
        "  tf.keras.layers.Dropout(0.1),\n",
        "  tf.keras.layers.Dense(10)\n",
        "])\n",
        "loss_fn = tf.keras.losses.SparseCategoricalCrossentropy(from_logits=True)"
      ],
      "metadata": {
        "id": "m3F-hkLyRVe3"
      },
      "execution_count": 45,
      "outputs": []
    },
    {
      "cell_type": "code",
      "source": [
        "from PIL import Image as im\n",
        "\n",
        "image_list = []\n",
        "\n",
        "a = get_batch(x_train, y_train, 32)\n",
        "x_train_i, y_train_i = a.send(None)\n",
        "\n",
        "for image_array in x_train_i:\n",
        "  image_array = image_array.reshape(32,32,3)\n",
        "  image_list.append(im.fromarray(image_array, mode='RGB'))\n",
        "\n",
        "image_list[0]"
      ],
      "metadata": {
        "colab": {
          "base_uri": "https://localhost:8080/",
          "height": 49
        },
        "id": "AyrU3LKFKwM2",
        "outputId": "23d14235-a23f-4f58-ab02-d98b4deacbb3"
      },
      "execution_count": 46,
      "outputs": [
        {
          "output_type": "execute_result",
          "data": {
            "text/plain": [
              "<PIL.Image.Image image mode=RGB size=32x32>"
            ],
            "image/png": "[encoded data removed]"
          },
          "metadata": {},
          "execution_count": 46
        }
      ]
    },
    {
      "cell_type": "code",
      "source": [
        "item_map = ['airplane', 'automobile', 'bird', 'cat', 'deer', 'dog', 'frog', 'horse', 'ship', 'truck']\n",
        "item_map[y_train_i[0][0]]"
      ],
      "metadata": {
        "colab": {
          "base_uri": "https://localhost:8080/",
          "height": 35
        },
        "id": "3tKInQcFLdrl",
        "outputId": "6853b9e3-8cd7-445c-8765-d2bbd856e633"
      },
      "execution_count": 47,
      "outputs": [
        {
          "output_type": "execute_result",
          "data": {
            "text/plain": [
              "'frog'"
            ],
            "application/vnd.google.colaboratory.intrinsic+json": {
              "type": "string"
            }
          },
          "metadata": {},
          "execution_count": 47
        }
      ]
    },
    {
      "cell_type": "code",
      "source": [
        "model.compile(optimizer='adam',\n",
        "        loss=loss_fn,\n",
        "        metrics=['accuracy'])\n",
        "\n",
        "ds_generator = tf.data.Dataset.from_generator(get_batch, args=[x_train, y_train, 32], output_types=(tf.float32, tf.uint8), output_shapes = ([None, 32, 32, 3],[None, 1]) )\n",
        "\n",
        "history = model.fit(ds_generator, epochs=30)"
      ],
      "metadata": {
        "colab": {
          "base_uri": "https://localhost:8080/"
        },
        "id": "bMXiOmB_aQzN",
        "outputId": "dbc8657e-b04b-4909-f0a8-558170befded"
      },
      "execution_count": 48,
      "outputs": [
        {
          "output_type": "stream",
          "name": "stdout",
          "text": [
            "Epoch 1/20\n",
            "1563/1563 [==============================] - 190s 121ms/step - loss: 2.3461 - accuracy: 0.1922\n",
            "Epoch 2/20\n",
            "1563/1563 [==============================] - 186s 119ms/step - loss: 1.7795 - accuracy: 0.3464\n",
            "Epoch 3/20\n",
            "1563/1563 [==============================] - 186s 119ms/step - loss: 1.6792 - accuracy: 0.3855\n",
            "Epoch 4/20\n",
            "1563/1563 [==============================] - 187s 120ms/step - loss: 1.6122 - accuracy: 0.4151\n",
            "Epoch 5/20\n",
            "1563/1563 [==============================] - 188s 120ms/step - loss: 1.5483 - accuracy: 0.4459\n",
            "Epoch 6/20\n",
            "1563/1563 [==============================] - 186s 119ms/step - loss: 1.4947 - accuracy: 0.4661\n",
            "Epoch 7/20\n",
            "1563/1563 [==============================] - 186s 119ms/step - loss: 1.4572 - accuracy: 0.4809\n",
            "Epoch 8/20\n",
            "1563/1563 [==============================] - 186s 119ms/step - loss: 1.4229 - accuracy: 0.4947\n",
            "Epoch 9/20\n",
            "1563/1563 [==============================] - 187s 119ms/step - loss: 1.3870 - accuracy: 0.5115\n",
            "Epoch 10/20\n",
            "1563/1563 [==============================] - 185s 118ms/step - loss: 1.3588 - accuracy: 0.5230\n",
            "Epoch 11/20\n",
            "1563/1563 [==============================] - 197s 126ms/step - loss: 1.3397 - accuracy: 0.5304\n",
            "Epoch 12/20\n",
            "1563/1563 [==============================] - 187s 119ms/step - loss: 1.3231 - accuracy: 0.5387\n",
            "Epoch 13/20\n",
            "1563/1563 [==============================] - 185s 118ms/step - loss: 1.3011 - accuracy: 0.5505\n",
            "Epoch 14/20\n",
            "1563/1563 [==============================] - 187s 119ms/step - loss: 1.2774 - accuracy: 0.5582\n",
            "Epoch 15/20\n",
            "1563/1563 [==============================] - 185s 118ms/step - loss: 1.2629 - accuracy: 0.5609\n",
            "Epoch 16/20\n",
            "1563/1563 [==============================] - 185s 118ms/step - loss: 1.2505 - accuracy: 0.5669\n",
            "Epoch 17/20\n",
            "1563/1563 [==============================] - 186s 119ms/step - loss: 1.2260 - accuracy: 0.5774\n",
            "Epoch 18/20\n",
            "1563/1563 [==============================] - 185s 119ms/step - loss: 1.2134 - accuracy: 0.5848\n",
            "Epoch 19/20\n",
            "1563/1563 [==============================] - 185s 118ms/step - loss: 1.2041 - accuracy: 0.5875\n",
            "Epoch 20/20\n",
            "1563/1563 [==============================] - 186s 119ms/step - loss: 1.2000 - accuracy: 0.5877\n"
          ]
        }
      ]
    },
    {
      "cell_type": "code",
      "source": [
        "import matplotlib.pyplot as plt\n",
        "acc = history.history['accuracy']\n",
        "\n",
        "\n",
        "loss = history.history['loss']\n",
        "\n",
        "\n",
        "epochs_range = range(20)\n",
        "\n",
        "plt.figure(figsize=(8, 8))\n",
        "plt.subplot(1, 2, 1)\n",
        "plt.plot(epochs_range, acc, label='Training Accuracy')\n",
        "\n",
        "plt.legend(loc='lower right')\n",
        "plt.title('Training and Validation Accuracy')\n",
        "\n",
        "plt.subplot(1, 2, 2)\n",
        "plt.plot(epochs_range, loss, label='Training Loss')\n",
        "\n",
        "plt.legend(loc='upper right')\n",
        "plt.title('Training and Validation Loss')\n",
        "plt.show()"
      ],
      "metadata": {
        "colab": {
          "base_uri": "https://localhost:8080/",
          "height": 699
        },
        "id": "5rPju_-ab4No",
        "outputId": "ed29a7f9-0cea-404f-ecab-748ad3e8665b"
      },
      "execution_count": 54,
      "outputs": [
        {
          "output_type": "display_data",
          "data": {
            "text/plain": [
              "<Figure size 800x800 with 2 Axes>"
            ],
            "image/png": "[encoded data removed]"
          },
          "metadata": {}
        }
      ]
    },
    {
      "cell_type": "markdown",
      "source": [
        "It can be seen that the trend gradually flattens out, and this model may have reached an extreme point."
      ],
      "metadata": {
        "id": "a1iKcGtLttVx"
      }
    },
    {
      "cell_type": "code",
      "source": [
        "model.evaluate(x_test, y_test, verbose=2)"
      ],
      "metadata": {
        "id": "csAEIzmXbWuU",
        "colab": {
          "base_uri": "https://localhost:8080/"
        },
        "outputId": "f12bb30a-2dc8-4c37-8cd5-4de3222010b9"
      },
      "execution_count": 55,
      "outputs": [
        {
          "output_type": "stream",
          "name": "stdout",
          "text": [
            "313/313 - 7s - loss: 1.2043 - accuracy: 0.5842 - 7s/epoch - 21ms/step\n"
          ]
        },
        {
          "output_type": "execute_result",
          "data": {
            "text/plain": [
              "[1.2042936086654663, 0.5842000246047974]"
            ]
          },
          "metadata": {},
          "execution_count": 55
        }
      ]
    },
    {
      "cell_type": "markdown",
      "source": [
        "Data augmentation may not be as successful as expected"
      ],
      "metadata": {
        "id": "wcx-AZPNuHeS"
      }
    }
  ]
}