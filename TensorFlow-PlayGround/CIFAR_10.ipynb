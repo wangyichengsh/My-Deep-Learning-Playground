{
  "nbformat": 4,
  "nbformat_minor": 0,
  "metadata": {
    "colab": {
      "provenance": []
    },
    "kernelspec": {
      "name": "python3",
      "display_name": "Python 3"
    },
    "language_info": {
      "name": "python"
    }
  },
  "cells": [
    {
      "cell_type": "markdown",
      "source": [
        "## Load Data"
      ],
      "metadata": {
        "id": "aph65aL9N-cw"
      }
    },
    {
      "cell_type": "code",
      "execution_count": 4,
      "metadata": {
        "id": "5mC5J4oOMk4o",
        "colab": {
          "base_uri": "https://localhost:8080/"
        },
        "outputId": "f470ef42-2cc8-42ae-9f03-6aea3653c494"
      },
      "outputs": [
        {
          "output_type": "stream",
          "name": "stdout",
          "text": [
            "Downloading data from https://www.cs.toronto.edu/~kriz/cifar-10-python.tar.gz\n",
            "170498071/170498071 [==============================] - 2s 0us/step\n"
          ]
        }
      ],
      "source": [
        "import tensorflow as tf\n",
        "cifar10 = tf.keras.datasets.cifar10\n",
        "\n",
        "(x_train, y_train), (x_test, y_test) = cifar10.load_data()"
      ]
    },
    {
      "cell_type": "markdown",
      "source": [
        "## Ckeck Data"
      ],
      "metadata": {
        "id": "ZnlzxG3MZkTI"
      }
    },
    {
      "cell_type": "code",
      "source": [
        "print(x_train.shape)\n",
        "print(y_train.shape)\n",
        "print(x_test.shape)\n",
        "print(y_test.shape)\n"
      ],
      "metadata": {
        "colab": {
          "base_uri": "https://localhost:8080/"
        },
        "id": "NIq0VQd5OIM2",
        "outputId": "6dcf2dd6-ba13-4ede-a3b5-72b4d79a5a0c"
      },
      "execution_count": 5,
      "outputs": [
        {
          "output_type": "stream",
          "name": "stdout",
          "text": [
            "(50000, 32, 32, 3)\n",
            "(50000, 1)\n",
            "(10000, 32, 32, 3)\n",
            "(10000, 1)\n"
          ]
        }
      ]
    },
    {
      "cell_type": "code",
      "source": [
        "from PIL import Image as im\n",
        "\n",
        "image_list = []\n",
        "\n",
        "for i in range(20):\n",
        "  image_array = x_train[i]\n",
        "  image_array = image_array.reshape(32,32,3)\n",
        "  image_list.append(im.fromarray(image_array, mode='RGB'))\n",
        "\n",
        "image_list[0]"
      ],
      "metadata": {
        "colab": {
          "base_uri": "https://localhost:8080/",
          "height": 49
        },
        "id": "9p9ZEk4FZo4M",
        "outputId": "e42e4fa3-bd2c-405f-f589-e5bb907f8cce"
      },
      "execution_count": 6,
      "outputs": [
        {
          "output_type": "execute_result",
          "data": {
            "text/plain": [
              "<PIL.Image.Image image mode=RGB size=32x32>"
            ],
            "image/png": "[encoded data removed]"
          },
          "metadata": {},
          "execution_count": 6
        }
      ]
    },
    {
      "cell_type": "code",
      "source": [
        "item_map = ['airplane', 'automobile', 'bird', 'cat', 'deer', 'dog', 'frog', 'horse', 'ship', 'truck']\n",
        "item_map[y_train[0][0]]"
      ],
      "metadata": {
        "colab": {
          "base_uri": "https://localhost:8080/",
          "height": 35
        },
        "id": "Jk9-e5LjZzpG",
        "outputId": "b5e3cedc-3db2-4992-dddc-70a00a9ecd25"
      },
      "execution_count": 7,
      "outputs": [
        {
          "output_type": "execute_result",
          "data": {
            "text/plain": [
              "'frog'"
            ],
            "application/vnd.google.colaboratory.intrinsic+json": {
              "type": "string"
            }
          },
          "metadata": {},
          "execution_count": 7
        }
      ]
    },
    {
      "cell_type": "code",
      "source": [
        "image_list[1]"
      ],
      "metadata": {
        "colab": {
          "base_uri": "https://localhost:8080/",
          "height": 49
        },
        "id": "1AcRhpKkbZ2T",
        "outputId": "ba13f0c6-c0c9-4d24-d200-8b685f9797ef"
      },
      "execution_count": 8,
      "outputs": [
        {
          "output_type": "execute_result",
          "data": {
            "text/plain": [
              "<PIL.Image.Image image mode=RGB size=32x32>"
            ],
            "image/png": "[encoded data removed]"
          },
          "metadata": {},
          "execution_count": 8
        }
      ]
    },
    {
      "cell_type": "code",
      "source": [
        "item_map[y_train[1][0]]"
      ],
      "metadata": {
        "colab": {
          "base_uri": "https://localhost:8080/",
          "height": 35
        },
        "id": "7vQav2lqbcPo",
        "outputId": "1a59be2e-d924-4cfd-8ba3-b02213e3fae0"
      },
      "execution_count": 9,
      "outputs": [
        {
          "output_type": "execute_result",
          "data": {
            "text/plain": [
              "'truck'"
            ],
            "application/vnd.google.colaboratory.intrinsic+json": {
              "type": "string"
            }
          },
          "metadata": {},
          "execution_count": 9
        }
      ]
    },
    {
      "cell_type": "markdown",
      "source": [
        "## Setup Model"
      ],
      "metadata": {
        "id": "M2G37q49cHEy"
      }
    },
    {
      "cell_type": "code",
      "source": [
        "model = tf.keras.models.Sequential([\n",
        "  tf.keras.layers.Conv2D(64, 5, activation='relu', padding='same', input_shape=(32,32,3)),\n",
        "  tf.keras.layers.MaxPooling2D(pool_size=(3, 3),strides=(2, 2), padding='same'),\n",
        "  tf.keras.layers.Conv2D(64, 5, activation='relu', padding='same'),\n",
        "  tf.keras.layers.MaxPooling2D(pool_size=(3, 3),strides=(2, 2), padding='same'),\n",
        "  tf.keras.layers.Flatten(),\n",
        "  tf.keras.layers.Dense(384, activation='relu'),\n",
        "  tf.keras.layers.Dense(192, activation='relu'),\n",
        "  tf.keras.layers.Dropout(0.5),\n",
        "  tf.keras.layers.Dense(10)\n",
        "])\n",
        "loss_fn = tf.keras.losses.SparseCategoricalCrossentropy(from_logits=True)"
      ],
      "metadata": {
        "id": "2M4yE7bscMHC"
      },
      "execution_count": 10,
      "outputs": []
    },
    {
      "cell_type": "markdown",
      "source": [
        "## Train"
      ],
      "metadata": {
        "id": "ob8ZopEPkLo8"
      }
    },
    {
      "cell_type": "code",
      "source": [
        "model.compile(optimizer='adam',\n",
        "        loss=loss_fn,\n",
        "        metrics=['accuracy'])\n",
        "history = model.fit(x_train, y_train, epochs=30)"
      ],
      "metadata": {
        "colab": {
          "base_uri": "https://localhost:8080/"
        },
        "id": "yG1-ECEqi08S",
        "outputId": "1551d725-3130-4ba9-c5d7-e97cd32043be"
      },
      "execution_count": 11,
      "outputs": [
        {
          "output_type": "stream",
          "name": "stdout",
          "text": [
            "Epoch 1/30\n",
            "1563/1563 [==============================] - 187s 119ms/step - loss: 2.2554 - accuracy: 0.2111\n",
            "Epoch 2/30\n",
            "1563/1563 [==============================] - 184s 117ms/step - loss: 1.8409 - accuracy: 0.3201\n",
            "Epoch 3/30\n",
            "1563/1563 [==============================] - 183s 117ms/step - loss: 1.6991 - accuracy: 0.3777\n",
            "Epoch 4/30\n",
            "1563/1563 [==============================] - 183s 117ms/step - loss: 1.5937 - accuracy: 0.4250\n",
            "Epoch 5/30\n",
            "1563/1563 [==============================] - 183s 117ms/step - loss: 1.5018 - accuracy: 0.4649\n",
            "Epoch 6/30\n",
            "1563/1563 [==============================] - 183s 117ms/step - loss: 1.4297 - accuracy: 0.4911\n",
            "Epoch 7/30\n",
            "1563/1563 [==============================] - 183s 117ms/step - loss: 1.3755 - accuracy: 0.5172\n",
            "Epoch 8/30\n",
            "1563/1563 [==============================] - 182s 117ms/step - loss: 1.3201 - accuracy: 0.5348\n",
            "Epoch 9/30\n",
            "1563/1563 [==============================] - 182s 117ms/step - loss: 1.2691 - accuracy: 0.5580\n",
            "Epoch 10/30\n",
            "1563/1563 [==============================] - 183s 117ms/step - loss: 1.2398 - accuracy: 0.5712\n",
            "Epoch 11/30\n",
            "1563/1563 [==============================] - 184s 118ms/step - loss: 1.1829 - accuracy: 0.5908\n",
            "Epoch 12/30\n",
            "1563/1563 [==============================] - 183s 117ms/step - loss: 1.1430 - accuracy: 0.6060\n",
            "Epoch 13/30\n",
            "1563/1563 [==============================] - 183s 117ms/step - loss: 1.1139 - accuracy: 0.6152\n",
            "Epoch 14/30\n",
            "1563/1563 [==============================] - 183s 117ms/step - loss: 1.0783 - accuracy: 0.6289\n",
            "Epoch 15/30\n",
            "1563/1563 [==============================] - 183s 117ms/step - loss: 1.0444 - accuracy: 0.6427\n",
            "Epoch 16/30\n",
            "1563/1563 [==============================] - 182s 116ms/step - loss: 1.0073 - accuracy: 0.6589\n",
            "Epoch 17/30\n",
            "1563/1563 [==============================] - 183s 117ms/step - loss: 0.9695 - accuracy: 0.6710\n",
            "Epoch 18/30\n",
            "1563/1563 [==============================] - 182s 117ms/step - loss: 0.9448 - accuracy: 0.6819\n",
            "Epoch 19/30\n",
            "1563/1563 [==============================] - 182s 117ms/step - loss: 0.9313 - accuracy: 0.6894\n",
            "Epoch 20/30\n",
            "1563/1563 [==============================] - 182s 116ms/step - loss: 0.9034 - accuracy: 0.6991\n",
            "Epoch 21/30\n",
            "1563/1563 [==============================] - 182s 116ms/step - loss: 0.8813 - accuracy: 0.7040\n",
            "Epoch 22/30\n",
            "1563/1563 [==============================] - 181s 116ms/step - loss: 0.8457 - accuracy: 0.7179\n",
            "Epoch 23/30\n",
            "1563/1563 [==============================] - 181s 116ms/step - loss: 0.8303 - accuracy: 0.7282\n",
            "Epoch 24/30\n",
            "1563/1563 [==============================] - 182s 116ms/step - loss: 0.7873 - accuracy: 0.7418\n",
            "Epoch 25/30\n",
            "1563/1563 [==============================] - 182s 116ms/step - loss: 0.7820 - accuracy: 0.7466\n",
            "Epoch 26/30\n",
            "1563/1563 [==============================] - 183s 117ms/step - loss: 0.7474 - accuracy: 0.7565\n",
            "Epoch 27/30\n",
            "1563/1563 [==============================] - 182s 117ms/step - loss: 0.7287 - accuracy: 0.7645\n",
            "Epoch 28/30\n",
            "1563/1563 [==============================] - 182s 116ms/step - loss: 0.7118 - accuracy: 0.7712\n",
            "Epoch 29/30\n",
            "1563/1563 [==============================] - 182s 116ms/step - loss: 0.7048 - accuracy: 0.7741\n",
            "Epoch 30/30\n",
            "1563/1563 [==============================] - 181s 116ms/step - loss: 0.6891 - accuracy: 0.7819\n"
          ]
        }
      ]
    },
    {
      "cell_type": "code",
      "source": [
        "import matplotlib.pyplot as plt\n",
        "acc = history.history['accuracy']\n",
        "\n",
        "\n",
        "loss = history.history['loss']\n",
        "\n",
        "\n",
        "epochs_range = range(30)\n",
        "\n",
        "plt.figure(figsize=(8, 8))\n",
        "plt.subplot(1, 2, 1)\n",
        "plt.plot(epochs_range, acc, label='Training Accuracy')\n",
        "\n",
        "plt.legend(loc='lower right')\n",
        "plt.title('Training and Validation Accuracy')\n",
        "\n",
        "plt.subplot(1, 2, 2)\n",
        "plt.plot(epochs_range, loss, label='Training Loss')\n",
        "\n",
        "plt.legend(loc='upper right')\n",
        "plt.title('Training and Validation Loss')\n",
        "plt.show()"
      ],
      "metadata": {
        "colab": {
          "base_uri": "https://localhost:8080/",
          "height": 699
        },
        "id": "2yXuJeWDlmkD",
        "outputId": "c9482a9e-2987-4531-b6fa-cd1a1bb17336"
      },
      "execution_count": 13,
      "outputs": [
        {
          "output_type": "display_data",
          "data": {
            "text/plain": [
              "<Figure size 800x800 with 2 Axes>"
            ],
            "image/png": "[encoded data removed]"
          },
          "metadata": {}
        }
      ]
    },
    {
      "cell_type": "markdown",
      "source": [
        "## Evalute"
      ],
      "metadata": {
        "id": "52GQIAOnkOaY"
      }
    },
    {
      "cell_type": "code",
      "source": [
        "model.evaluate(x_test, y_test, verbose=2)"
      ],
      "metadata": {
        "colab": {
          "base_uri": "https://localhost:8080/"
        },
        "id": "YwCJ8FLVkQz7",
        "outputId": "a2e90882-a28f-44c0-ed01-4a5a12e8f18b"
      },
      "execution_count": 14,
      "outputs": [
        {
          "output_type": "stream",
          "name": "stdout",
          "text": [
            "313/313 - 10s - loss: 2.0188 - accuracy: 0.5823 - 10s/epoch - 32ms/step\n"
          ]
        },
        {
          "output_type": "execute_result",
          "data": {
            "text/plain": [
              "[2.018784284591675, 0.5823000073432922]"
            ]
          },
          "metadata": {},
          "execution_count": 14
        }
      ]
    },
	{
      "cell_type": "markdown",
      "source": [
        "Although training performance is good, test performance does not match"
      ],
      "metadata": {
        "id": "he9uNb20qlar"
      }
    },
    {
      "cell_type": "markdown",
      "source": [
        "## Try to improve Performance by Data Augmentation"
      ],
      "metadata": {
        "id": "j028mgvJRHjX"
      }
    },
    {
      "cell_type": "code",
      "source": [
        "import numpy as np\n",
        "\n",
        "def data_augmentation(image):\n",
        "  # image = tf.image.random_crop(image, [28, 28, 3])\n",
        "  image = tf.image.random_flip_left_right(image)\n",
        "  image = tf.image.random_flip_up_down(image)\n",
        "  # image = tf.image.random_brightness(image, 63)\n",
        "  # image = tf.image.random_contrast(image, 0.2, 1.8)\n",
        "  return image.numpy()\n",
        "\n",
        "\n",
        "def get_batch(x_train, y_train, batch_size):\n",
        "  t = int(x_train.shape[0]/batch_size)+1\n",
        "  for i in range(t):\n",
        "    x_train_aug = data_augmentation(x_train[i*batch_size]).reshape((1, 32, 32, 3))\n",
        "    for image in x_train[i*batch_size+1:(i+1)*batch_size,:]:\n",
        "      x_train_aug = np.append(x_train_aug,data_augmentation(image).reshape((1, 32, 32, 3)), axis=0)\n",
        "    yield x_train_aug, y_train[i*batch_size:(i+1)*batch_size]\n",
        "\n",
        "model = tf.keras.models.Sequential([\n",
        "  tf.keras.layers.Conv2D(64, 5, activation='relu', padding='valid', input_shape=(32,32,3)),\n",
        "  tf.keras.layers.MaxPooling2D(pool_size=(3, 3),strides=(2, 2), padding='valid'),\n",
        "  tf.keras.layers.Conv2D(64, 5, activation='relu', padding='valid'),\n",
        "  tf.keras.layers.MaxPooling2D(pool_size=(3, 3),strides=(2, 2), padding='valid'),\n",
        "  tf.keras.layers.Flatten(),\n",
        "  tf.keras.layers.Dense(384, activation='relu'),\n",
        "  tf.keras.layers.Dense(192, activation='relu'),\n",
        "  tf.keras.layers.Dropout(0.1),\n",
        "  tf.keras.layers.Dense(10)\n",
        "])\n",
        "loss_fn = tf.keras.losses.SparseCategoricalCrossentropy(from_logits=True)"
      ],
      "metadata": {
        "id": "m3F-hkLyRVe3"
      },
      "execution_count": null,
      "outputs": []
    },
    {
      "cell_type": "code",
      "source": [
        "from PIL import Image as im\n",
        "\n",
        "image_list = []\n",
        "\n",
        "a = get_batch(x_train, y_train, 32)\n",
        "x_train_i, y_train_i = a.send(None)\n",
        "\n",
        "for image_array in x_train_i:\n",
        "  image_array = image_array.reshape(32,32,3)\n",
        "  image_list.append(im.fromarray(image_array, mode='RGB'))\n",
        "\n",
        "image_list[0]"
      ],
      "metadata": {
        "colab": {
          "base_uri": "https://localhost:8080/",
          "height": 49
        },
        "id": "AyrU3LKFKwM2",
        "outputId": "23d14235-a23f-4f58-ab02-d98b4deacbb3"
      },
      "execution_count": null,
      "outputs": [
        {
          "output_type": "execute_result",
          "data": {
            "text/plain": [
              "<PIL.Image.Image image mode=RGB size=32x32>"
            ],
            "image/png": "[encoded data removed]"
          },
          "metadata": {},
          "execution_count": 46
        }
      ]
    },
    {
      "cell_type": "code",
      "source": [
        "item_map = ['airplane', 'automobile', 'bird', 'cat', 'deer', 'dog', 'frog', 'horse', 'ship', 'truck']\n",
        "item_map[y_train_i[0][0]]"
      ],
      "metadata": {
        "colab": {
          "base_uri": "https://localhost:8080/",
          "height": 35
        },
        "id": "3tKInQcFLdrl",
        "outputId": "6853b9e3-8cd7-445c-8765-d2bbd856e633"
      },
      "execution_count": null,
      "outputs": [
        {
          "output_type": "execute_result",
          "data": {
            "text/plain": [
              "'frog'"
            ],
            "application/vnd.google.colaboratory.intrinsic+json": {
              "type": "string"
            }
          },
          "metadata": {},
          "execution_count": 47
        }
      ]
    },
    {
      "cell_type": "code",
      "source": [
        "model.compile(optimizer='adam',\n",
        "        loss=loss_fn,\n",
        "        metrics=['accuracy'])\n",
        "\n",
        "ds_generator = tf.data.Dataset.from_generator(get_batch, args=[x_train, y_train, 32], output_types=(tf.float32, tf.uint8), output_shapes = ([None, 32, 32, 3],[None, 1]) )\n",
        "\n",
        "history = model.fit(ds_generator, epochs=30)"
      ],
      "metadata": {
        "colab": {
          "base_uri": "https://localhost:8080/"
        },
        "id": "bMXiOmB_aQzN",
        "outputId": "dbc8657e-b04b-4909-f0a8-558170befded"
      },
      "execution_count": null,
      "outputs": [
        {
          "output_type": "stream",
          "name": "stdout",
          "text": [
            "Epoch 1/20\n",
            "1563/1563 [==============================] - 190s 121ms/step - loss: 2.3461 - accuracy: 0.1922\n",
            "Epoch 2/20\n",
            "1563/1563 [==============================] - 186s 119ms/step - loss: 1.7795 - accuracy: 0.3464\n",
            "Epoch 3/20\n",
            "1563/1563 [==============================] - 186s 119ms/step - loss: 1.6792 - accuracy: 0.3855\n",
            "Epoch 4/20\n",
            "1563/1563 [==============================] - 187s 120ms/step - loss: 1.6122 - accuracy: 0.4151\n",
            "Epoch 5/20\n",
            "1563/1563 [==============================] - 188s 120ms/step - loss: 1.5483 - accuracy: 0.4459\n",
            "Epoch 6/20\n",
            "1563/1563 [==============================] - 186s 119ms/step - loss: 1.4947 - accuracy: 0.4661\n",
            "Epoch 7/20\n",
            "1563/1563 [==============================] - 186s 119ms/step - loss: 1.4572 - accuracy: 0.4809\n",
            "Epoch 8/20\n",
            "1563/1563 [==============================] - 186s 119ms/step - loss: 1.4229 - accuracy: 0.4947\n",
            "Epoch 9/20\n",
            "1563/1563 [==============================] - 187s 119ms/step - loss: 1.3870 - accuracy: 0.5115\n",
            "Epoch 10/20\n",
            "1563/1563 [==============================] - 185s 118ms/step - loss: 1.3588 - accuracy: 0.5230\n",
            "Epoch 11/20\n",
            "1563/1563 [==============================] - 197s 126ms/step - loss: 1.3397 - accuracy: 0.5304\n",
            "Epoch 12/20\n",
            "1563/1563 [==============================] - 187s 119ms/step - loss: 1.3231 - accuracy: 0.5387\n",
            "Epoch 13/20\n",
            "1563/1563 [==============================] - 185s 118ms/step - loss: 1.3011 - accuracy: 0.5505\n",
            "Epoch 14/20\n",
            "1563/1563 [==============================] - 187s 119ms/step - loss: 1.2774 - accuracy: 0.5582\n",
            "Epoch 15/20\n",
            "1563/1563 [==============================] - 185s 118ms/step - loss: 1.2629 - accuracy: 0.5609\n",
            "Epoch 16/20\n",
            "1563/1563 [==============================] - 185s 118ms/step - loss: 1.2505 - accuracy: 0.5669\n",
            "Epoch 17/20\n",
            "1563/1563 [==============================] - 186s 119ms/step - loss: 1.2260 - accuracy: 0.5774\n",
            "Epoch 18/20\n",
            "1563/1563 [==============================] - 185s 119ms/step - loss: 1.2134 - accuracy: 0.5848\n",
            "Epoch 19/20\n",
            "1563/1563 [==============================] - 185s 118ms/step - loss: 1.2041 - accuracy: 0.5875\n",
            "Epoch 20/20\n",
            "1563/1563 [==============================] - 186s 119ms/step - loss: 1.2000 - accuracy: 0.5877\n"
          ]
        }
      ]
    },
    {
      "cell_type": "code",
      "source": [
        "import matplotlib.pyplot as plt\n",
        "acc = history.history['accuracy']\n",
        "\n",
        "\n",
        "loss = history.history['loss']\n",
        "\n",
        "\n",
        "epochs_range = range(20)\n",
        "\n",
        "plt.figure(figsize=(8, 8))\n",
        "plt.subplot(1, 2, 1)\n",
        "plt.plot(epochs_range, acc, label='Training Accuracy')\n",
        "\n",
        "plt.legend(loc='lower right')\n",
        "plt.title('Training and Validation Accuracy')\n",
        "\n",
        "plt.subplot(1, 2, 2)\n",
        "plt.plot(epochs_range, loss, label='Training Loss')\n",
        "\n",
        "plt.legend(loc='upper right')\n",
        "plt.title('Training and Validation Loss')\n",
        "plt.show()"
      ],
      "metadata": {
        "colab": {
          "base_uri": "https://localhost:8080/",
          "height": 699
        },
        "id": "5rPju_-ab4No",
        "outputId": "ed29a7f9-0cea-404f-ecab-748ad3e8665b"
      },
      "execution_count": null,
      "outputs": [
        {
          "output_type": "display_data",
          "data": {
            "text/plain": [
              "<Figure size 800x800 with 2 Axes>"
            ],
            "image/png": "[encoded data removed]"
          },
          "metadata": {}
        }
      ]
    },
    {
      "cell_type": "markdown",
      "source": [
        "It can be seen that the trend gradually flattens out, and this model may have reached an extreme point."
      ],
      "metadata": {
        "id": "a1iKcGtLttVx"
      }
    },
    {
      "cell_type": "code",
      "source": [
        "model.evaluate(x_test, y_test, verbose=2)"
      ],
      "metadata": {
        "id": "csAEIzmXbWuU",
        "colab": {
          "base_uri": "https://localhost:8080/"
        },
        "outputId": "f12bb30a-2dc8-4c37-8cd5-4de3222010b9"
      },
      "execution_count": null,
      "outputs": [
        {
          "output_type": "stream",
          "name": "stdout",
          "text": [
            "313/313 - 7s - loss: 1.2043 - accuracy: 0.5842 - 7s/epoch - 21ms/step\n"
          ]
        },
        {
          "output_type": "execute_result",
          "data": {
            "text/plain": [
              "[1.2042936086654663, 0.5842000246047974]"
            ]
          },
          "metadata": {},
          "execution_count": 55
        }
      ]
    },
    {
      "cell_type": "markdown",
      "source": [
        "Data augmentation may not be as successful as expected"
      ],
      "metadata": {
        "id": "wcx-AZPNuHeS"
      }
    }
  ]
}