{
  "nbformat": 4,
  "nbformat_minor": 0,
  "metadata": {
    "colab": {
      "provenance": []
    },
    "kernelspec": {
      "name": "python3",
      "display_name": "Python 3"
    },
    "language_info": {
      "name": "python"
    }
  },
  "cells": [
    {
      "cell_type": "markdown",
      "source": [
        "## Load Data"
      ],
      "metadata": {
        "id": "aph65aL9N-cw"
      }
    },
    {
      "cell_type": "code",
      "execution_count": 3,
      "metadata": {
        "colab": {
          "base_uri": "https://localhost:8080/"
        },
        "id": "5mC5J4oOMk4o",
        "outputId": "f23add14-2c26-4157-994c-40022f27b53f"
      },
      "outputs": [
        {
          "output_type": "stream",
          "name": "stdout",
          "text": [
            "Downloading data from https://www.cs.toronto.edu/~kriz/cifar-10-python.tar.gz\n",
            "170498071/170498071 [==============================] - 11s 0us/step\n"
          ]
        }
      ],
      "source": [
        "import tensorflow as tf\n",
        "cifar10 = tf.keras.datasets.cifar10\n",
        "\n",
        "(x_train, y_train), (x_test, y_test) = cifar10.load_data()"
      ]
    },
    {
      "cell_type": "markdown",
      "source": [
        "## Ckeck Data"
      ],
      "metadata": {
        "id": "ZnlzxG3MZkTI"
      }
    },
    {
      "cell_type": "code",
      "source": [
        "print(x_train.shape)\n",
        "print(y_train.shape)\n",
        "print(x_test.shape)\n",
        "print(y_test.shape)\n"
      ],
      "metadata": {
        "colab": {
          "base_uri": "https://localhost:8080/"
        },
        "id": "NIq0VQd5OIM2",
        "outputId": "554645cb-b051-4926-f8d1-3cecda676049"
      },
      "execution_count": 4,
      "outputs": [
        {
          "output_type": "stream",
          "name": "stdout",
          "text": [
            "(50000, 32, 32, 3)\n",
            "(50000, 1)\n",
            "(10000, 32, 32, 3)\n",
            "(10000, 1)\n"
          ]
        }
      ]
    },
    {
      "cell_type": "code",
      "source": [
        "from PIL import Image as im\n",
        "\n",
        "image_list = []\n",
        "\n",
        "for i in range(20):\n",
        "  image_array = x_train[i]\n",
        "  image_array = image_array.reshape(32,32,3)\n",
        "  image_list.append(im.fromarray(image_array, mode='RGB'))\n",
        "\n",
        "image_list[0]"
      ],
      "metadata": {
        "colab": {
          "base_uri": "https://localhost:8080/",
          "height": 49
        },
        "id": "9p9ZEk4FZo4M",
        "outputId": "683c4461-0a62-4ad7-be53-0de9d98eedac"
      },
      "execution_count": 6,
      "outputs": [
        {
          "output_type": "execute_result",
          "data": {
            "text/plain": [
              "<PIL.Image.Image image mode=RGB size=32x32>"
            ],
            "image/png": "[encoded data removed]"
          },
          "metadata": {},
          "execution_count": 6
        }
      ]
    },
    {
      "cell_type": "code",
      "source": [
        "item_map = ['airplane', 'automobile', 'bird', 'cat', 'deer', 'dog', 'frog', 'horse', 'ship', 'truck']\n",
        "item_map[y_train[0][0]]"
      ],
      "metadata": {
        "colab": {
          "base_uri": "https://localhost:8080/",
          "height": 35
        },
        "id": "Jk9-e5LjZzpG",
        "outputId": "9f6a848f-136f-4657-af12-14c832cd3078"
      },
      "execution_count": 12,
      "outputs": [
        {
          "output_type": "execute_result",
          "data": {
            "text/plain": [
              "'frog'"
            ],
            "application/vnd.google.colaboratory.intrinsic+json": {
              "type": "string"
            }
          },
          "metadata": {},
          "execution_count": 12
        }
      ]
    },
    {
      "cell_type": "code",
      "source": [
        "image_list[1]"
      ],
      "metadata": {
        "colab": {
          "base_uri": "https://localhost:8080/",
          "height": 49
        },
        "id": "1AcRhpKkbZ2T",
        "outputId": "932e1f4b-5c59-46a6-e64d-87ddc0d42ffa"
      },
      "execution_count": 13,
      "outputs": [
        {
          "output_type": "execute_result",
          "data": {
            "text/plain": [
              "<PIL.Image.Image image mode=RGB size=32x32>"
            ],
            "image/png": "[encoded data removed]"
          },
          "metadata": {},
          "execution_count": 13
        }
      ]
    },
    {
      "cell_type": "code",
      "source": [
        "item_map[y_train[1][0]]"
      ],
      "metadata": {
        "colab": {
          "base_uri": "https://localhost:8080/",
          "height": 35
        },
        "id": "7vQav2lqbcPo",
        "outputId": "01bd8f5f-001f-4607-f66b-e262280cf507"
      },
      "execution_count": 14,
      "outputs": [
        {
          "output_type": "execute_result",
          "data": {
            "text/plain": [
              "'truck'"
            ],
            "application/vnd.google.colaboratory.intrinsic+json": {
              "type": "string"
            }
          },
          "metadata": {},
          "execution_count": 14
        }
      ]
    },
    {
      "cell_type": "markdown",
      "source": [
        "## Setup Model"
      ],
      "metadata": {
        "id": "M2G37q49cHEy"
      }
    },
    {
      "cell_type": "code",
      "source": [
        "model = tf.keras.models.Sequential([\n",
        "  tf.keras.layers.Conv2D(64, 5, activation='relu', padding='same', input_shape=(32,32,3)),\n",
        "  tf.keras.layers.MaxPooling2D(pool_size=(3, 3),strides=(2, 2), padding='same'),\n",
        "  tf.keras.layers.Conv2D(64, 5, activation='relu', padding='same'),\n",
        "  tf.keras.layers.MaxPooling2D(pool_size=(3, 3),strides=(2, 2), padding='same'),\n",
        "  tf.keras.layers.Flatten(),\n",
        "  tf.keras.layers.Dense(384, activation='relu'),\n",
        "  tf.keras.layers.Dense(192, activation='relu'),\n",
        "  tf.keras.layers.Dropout(0.5),\n",
        "  tf.keras.layers.Dense(10)\n",
        "])\n",
        "loss_fn = tf.keras.losses.SparseCategoricalCrossentropy(from_logits=True)"
      ],
      "metadata": {
        "id": "2M4yE7bscMHC"
      },
      "execution_count": 18,
      "outputs": []
    },
    {
      "cell_type": "markdown",
      "source": [
        "## Train"
      ],
      "metadata": {
        "id": "ob8ZopEPkLo8"
      }
    },
    {
      "cell_type": "code",
      "source": [
        "model.compile(optimizer='adam',\n",
        "        loss=loss_fn,\n",
        "        metrics=['accuracy'])\n",
        "model.fit(x_train, y_train, epochs=5)"
      ],
      "metadata": {
        "colab": {
          "base_uri": "https://localhost:8080/"
        },
        "id": "yG1-ECEqi08S",
        "outputId": "30ab5b3b-f588-4735-9c75-acb2738f9a16"
      },
      "execution_count": 19,
      "outputs": [
        {
          "output_type": "stream",
          "name": "stdout",
          "text": [
            "Epoch 1/5\n",
            "1563/1563 [==============================] - 320s 204ms/step - loss: 2.2798 - accuracy: 0.1995\n",
            "Epoch 2/5\n",
            "1563/1563 [==============================] - 317s 203ms/step - loss: 1.7421 - accuracy: 0.3681\n",
            "Epoch 3/5\n",
            "1563/1563 [==============================] - 316s 202ms/step - loss: 1.5824 - accuracy: 0.4314\n",
            "Epoch 4/5\n",
            "1563/1563 [==============================] - 317s 203ms/step - loss: 1.4845 - accuracy: 0.4714\n",
            "Epoch 5/5\n",
            "1563/1563 [==============================] - 314s 201ms/step - loss: 1.4117 - accuracy: 0.4996\n"
          ]
        },
        {
          "output_type": "execute_result",
          "data": {
            "text/plain": [
              "<keras.src.callbacks.History at 0x7c63640f1e70>"
            ]
          },
          "metadata": {},
          "execution_count": 19
        }
      ]
    },
    {
      "cell_type": "markdown",
      "source": [
        "## Evalute"
      ],
      "metadata": {
        "id": "52GQIAOnkOaY"
      }
    },
    {
      "cell_type": "code",
      "source": [
        "model.evaluate(x_test, y_test, verbose=2)"
      ],
      "metadata": {
        "colab": {
          "base_uri": "https://localhost:8080/"
        },
        "id": "YwCJ8FLVkQz7",
        "outputId": "7ae2f5f8-4912-42b4-cad0-57a5daa56c2a"
      },
      "execution_count": 20,
      "outputs": [
        {
          "output_type": "stream",
          "name": "stdout",
          "text": [
            "313/313 - 17s - loss: 1.5125 - accuracy: 0.4515 - 17s/epoch - 53ms/step\n"
          ]
        },
        {
          "output_type": "execute_result",
          "data": {
            "text/plain": [
              "[1.5124928951263428, 0.4514999985694885]"
            ]
          },
          "metadata": {},
          "execution_count": 20
        }
      ]
    },
    {
      "cell_type": "markdown",
      "source": [
        "## Improve Performance by Data Augmentation"
      ],
      "metadata": {
        "id": "j028mgvJRHjX"
      }
    },
    {
      "cell_type": "code",
      "source": [
        "import numpy as np\n",
        "\n",
        "def data_augmentation(image):\n",
        "  image = tf.image.random_crop(image, [28, 28, 3])\n",
        "  image = tf.image.random_flip_left_right(image)\n",
        "  image = tf.image.random_flip_up_down(image)\n",
        "  image = tf.image.random_brightness(image, 63)\n",
        "  image = tf.image.random_contrast(image, 0.2, 1.8)\n",
        "  return image.numpy()\n",
        "\n",
        "\n",
        "def get_batch(x_train, y_train, batch_size):\n",
        "  t = int(x_train.shape[0]/batch_size)+1\n",
        "  for i in range(t):\n",
        "    x_train_aug = data_augmentation(x_train[i*batch_size]).reshape((1, 28, 28, 3))\n",
        "    for image in x_train[i*batch_size+1:(i+1)*batch_size,:]:\n",
        "      x_train_aug = np.append(x_train_aug,data_augmentation(image).reshape((1, 28, 28, 3)), axis=0)\n",
        "    yield x_train_aug, y_train[i*batch_size:(i+1)*batch_size]\n",
        "\n",
        "model = tf.keras.models.Sequential([\n",
        "  tf.keras.layers.Conv2D(64, 5, activation='relu', padding='same', input_shape=(28,28,3)),\n",
        "  tf.keras.layers.MaxPooling2D(pool_size=(3, 3),strides=(2, 2), padding='same'),\n",
        "  tf.keras.layers.Conv2D(64, 5, activation='relu', padding='same'),\n",
        "  tf.keras.layers.MaxPooling2D(pool_size=(3, 3),strides=(2, 2), padding='same'),\n",
        "  tf.keras.layers.Flatten(),\n",
        "  tf.keras.layers.Dense(384, activation='relu'),\n",
        "  tf.keras.layers.Dense(192, activation='relu'),\n",
        "  tf.keras.layers.Dropout(0.5),\n",
        "  tf.keras.layers.Dense(10)\n",
        "])\n",
        "loss_fn = tf.keras.losses.SparseCategoricalCrossentropy(from_logits=True)"
      ],
      "metadata": {
        "id": "m3F-hkLyRVe3"
      },
      "execution_count": 108,
      "outputs": []
    },
    {
      "cell_type": "code",
      "source": [
        "model.compile(optimizer='adam',\n",
        "        loss=loss_fn,\n",
        "        metrics=['accuracy'])\n",
        "\n",
        "ds_generator = tf.data.Dataset.from_generator(get_batch, args=[x_train, y_train, 32], output_types=(tf.uint8, tf.uint8), output_shapes = ([None, 28, 28, 3],[None, 1]) )\n",
        "\n",
        "model.fit(ds_generator, epochs=10)"
      ],
      "metadata": {
        "colab": {
          "base_uri": "https://localhost:8080/"
        },
        "id": "bMXiOmB_aQzN",
        "outputId": "16fe8d81-6c40-4367-b827-f4007edf6d71"
      },
      "execution_count": null,
      "outputs": [
        {
          "output_type": "stream",
          "name": "stdout",
          "text": [
            "Epoch 1/10\n",
            "    292/Unknown - 91s 309ms/step - loss: 3.3538 - accuracy: 0.1006"
          ]
        }
      ]
    },
    {
      "cell_type": "code",
      "source": [
        "model.evaluate(x_test, y_test, verbose=2)"
      ],
      "metadata": {
        "id": "csAEIzmXbWuU"
      },
      "execution_count": null,
      "outputs": []
    }
  ]
}