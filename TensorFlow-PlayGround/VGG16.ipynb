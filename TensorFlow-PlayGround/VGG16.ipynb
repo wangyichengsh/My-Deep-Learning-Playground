{
  "nbformat": 4,
  "nbformat_minor": 0,
  "metadata": {
    "colab": {
      "provenance": []
    },
    "kernelspec": {
      "name": "python3",
      "display_name": "Python 3"
    },
    "language_info": {
      "name": "python"
    }
  },
  "cells": [
    {
      "cell_type": "markdown",
      "source": [
        "## Using VGG16 to Transfer learning and fine-tuning"
      ],
      "metadata": {
        "id": "brUViwdTH-bE"
      }
    },
    {
      "cell_type": "code",
      "execution_count": 1,
      "metadata": {
        "id": "VePoopdjH4BP"
      },
      "outputs": [],
      "source": [
        "import matplotlib.pyplot as plt\n",
        "import numpy as np\n",
        "import os\n",
        "import tensorflow as tf"
      ]
    },
    {
      "cell_type": "code",
      "source": [
        "dir(tf.keras.applications)"
      ],
      "metadata": {
        "colab": {
          "base_uri": "https://localhost:8080/"
        },
        "id": "p9HVFlh_KxJE",
        "outputId": "3e6b65db-4ae4-48a3-cb0d-14517c44254a"
      },
      "execution_count": 2,
      "outputs": [
        {
          "output_type": "execute_result",
          "data": {
            "text/plain": [
              "['ConvNeXtBase',\n",
              " 'ConvNeXtLarge',\n",
              " 'ConvNeXtSmall',\n",
              " 'ConvNeXtTiny',\n",
              " 'ConvNeXtXLarge',\n",
              " 'DenseNet121',\n",
              " 'DenseNet169',\n",
              " 'DenseNet201',\n",
              " 'EfficientNetB0',\n",
              " 'EfficientNetB1',\n",
              " 'EfficientNetB2',\n",
              " 'EfficientNetB3',\n",
              " 'EfficientNetB4',\n",
              " 'EfficientNetB5',\n",
              " 'EfficientNetB6',\n",
              " 'EfficientNetB7',\n",
              " 'EfficientNetV2B0',\n",
              " 'EfficientNetV2B1',\n",
              " 'EfficientNetV2B2',\n",
              " 'EfficientNetV2B3',\n",
              " 'EfficientNetV2L',\n",
              " 'EfficientNetV2M',\n",
              " 'EfficientNetV2S',\n",
              " 'InceptionResNetV2',\n",
              " 'InceptionV3',\n",
              " 'MobileNet',\n",
              " 'MobileNetV2',\n",
              " 'MobileNetV3Large',\n",
              " 'MobileNetV3Small',\n",
              " 'NASNetLarge',\n",
              " 'NASNetMobile',\n",
              " 'RegNetX002',\n",
              " 'RegNetX004',\n",
              " 'RegNetX006',\n",
              " 'RegNetX008',\n",
              " 'RegNetX016',\n",
              " 'RegNetX032',\n",
              " 'RegNetX040',\n",
              " 'RegNetX064',\n",
              " 'RegNetX080',\n",
              " 'RegNetX120',\n",
              " 'RegNetX160',\n",
              " 'RegNetX320',\n",
              " 'RegNetY002',\n",
              " 'RegNetY004',\n",
              " 'RegNetY006',\n",
              " 'RegNetY008',\n",
              " 'RegNetY016',\n",
              " 'RegNetY032',\n",
              " 'RegNetY040',\n",
              " 'RegNetY064',\n",
              " 'RegNetY080',\n",
              " 'RegNetY120',\n",
              " 'RegNetY160',\n",
              " 'RegNetY320',\n",
              " 'ResNet101',\n",
              " 'ResNet101V2',\n",
              " 'ResNet152',\n",
              " 'ResNet152V2',\n",
              " 'ResNet50',\n",
              " 'ResNet50V2',\n",
              " 'ResNetRS101',\n",
              " 'ResNetRS152',\n",
              " 'ResNetRS200',\n",
              " 'ResNetRS270',\n",
              " 'ResNetRS350',\n",
              " 'ResNetRS420',\n",
              " 'ResNetRS50',\n",
              " 'VGG16',\n",
              " 'VGG19',\n",
              " 'Xception',\n",
              " '__builtins__',\n",
              " '__cached__',\n",
              " '__doc__',\n",
              " '__file__',\n",
              " '__loader__',\n",
              " '__name__',\n",
              " '__package__',\n",
              " '__path__',\n",
              " '__spec__',\n",
              " 'convnext',\n",
              " 'densenet',\n",
              " 'efficientnet',\n",
              " 'efficientnet_v2',\n",
              " 'imagenet_utils',\n",
              " 'inception_resnet_v2',\n",
              " 'inception_v3',\n",
              " 'mobilenet',\n",
              " 'mobilenet_v2',\n",
              " 'mobilenet_v3',\n",
              " 'nasnet',\n",
              " 'regnet',\n",
              " 'resnet',\n",
              " 'resnet50',\n",
              " 'resnet_rs',\n",
              " 'resnet_v2',\n",
              " 'vgg16',\n",
              " 'vgg19',\n",
              " 'xception']"
            ]
          },
          "metadata": {},
          "execution_count": 2
        }
      ]
    }
  ]
}